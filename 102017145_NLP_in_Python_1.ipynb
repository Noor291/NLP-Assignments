{
  "cells": [
    {
      "cell_type": "markdown",
      "metadata": {
        "id": "view-in-github",
        "colab_type": "text"
      },
      "source": [
        "<a href=\"https://colab.research.google.com/github/Noor291/NLP_Assignments/blob/main/102017145_NLP_in_Python_1.ipynb\" target=\"_parent\"><img src=\"https://colab.research.google.com/assets/colab-badge.svg\" alt=\"Open In Colab\"/></a>"
      ]
    },
    {
      "cell_type": "markdown",
      "source": [
        "Name- Noordeep Kaur\n",
        "<BR>\n",
        "Roll no-102017145"
      ],
      "metadata": {
        "id": "kXbSgyQ0EK1k"
      },
      "id": "kXbSgyQ0EK1k"
    },
    {
      "cell_type": "markdown",
      "id": "1b25ad88",
      "metadata": {
        "id": "1b25ad88"
      },
      "source": [
        "# Data Science Workflow\n",
        "\n",
        "NLP is a sub-domain of Data Science, so, start with introduction to general workflow in Data Science.\n",
        "1. Start with a Question\n",
        "2. Get & Clean the Data\n",
        "3. Perform EDA\n",
        "4. Apply Techniques\n",
        "5. Share Insights\n"
      ]
    },
    {
      "cell_type": "markdown",
      "id": "4570f66a",
      "metadata": {
        "id": "4570f66a"
      },
      "source": [
        "### 1. Start with a Question\n",
        "\"If I study more, will I get a higher grade?\"\n",
        " \n",
        " Now, what data is required to answer this question?\n",
        " ->studies hours and grade of some students!\n",
        " \n",
        " | Student | Studied hours | Grade |\n",
        " | --- | --- | --- | \n",
        " | Naman | 25 | 10 |\n",
        " | Ankit | 7 | 7 |\n",
        " | Palak | Ten | 8 |\n",
        " | Ramu | 15 | 101 |"
      ]
    },
    {
      "cell_type": "markdown",
      "id": "1f41ec52",
      "metadata": {
        "id": "1f41ec52"
      },
      "source": [
        "#### Assignment: \n",
        "1. Clean the data manualy.\n",
        "2. Add more row to above data and share with your friend. Your friend will clean it."
      ]
    },
    {
      "cell_type": "code",
      "source": [
        "import pandas as pd\n",
        "data = [['Naman', 25,10], ['Ankit', 7,7], ['Palak', 10,8],['Ramu',15,10],['Noor',14,10],['Eshan',12,9]]\n",
        "df = pd.DataFrame(data, columns=['Student', 'Studied hours','Grade'])\n",
        "df"
      ],
      "metadata": {
        "colab": {
          "base_uri": "https://localhost:8080/",
          "height": 237
        },
        "id": "30t8X2-w8czr",
        "outputId": "302a5291-7654-4e8f-d9cd-2038c136b386"
      },
      "id": "30t8X2-w8czr",
      "execution_count": null,
      "outputs": [
        {
          "output_type": "execute_result",
          "data": {
            "text/plain": [
              "  Student  Studied hours  Grade\n",
              "0   Naman             25     10\n",
              "1   Ankit              7      7\n",
              "2   Palak             10      8\n",
              "3    Ramu             15     10\n",
              "4    Noor             14     10\n",
              "5   Eshan             12      9"
            ],
            "text/html": [
              "\n",
              "  <div id=\"df-4d969233-315a-4b06-85f1-a5f85087ab60\">\n",
              "    <div class=\"colab-df-container\">\n",
              "      <div>\n",
              "<style scoped>\n",
              "    .dataframe tbody tr th:only-of-type {\n",
              "        vertical-align: middle;\n",
              "    }\n",
              "\n",
              "    .dataframe tbody tr th {\n",
              "        vertical-align: top;\n",
              "    }\n",
              "\n",
              "    .dataframe thead th {\n",
              "        text-align: right;\n",
              "    }\n",
              "</style>\n",
              "<table border=\"1\" class=\"dataframe\">\n",
              "  <thead>\n",
              "    <tr style=\"text-align: right;\">\n",
              "      <th></th>\n",
              "      <th>Student</th>\n",
              "      <th>Studied hours</th>\n",
              "      <th>Grade</th>\n",
              "    </tr>\n",
              "  </thead>\n",
              "  <tbody>\n",
              "    <tr>\n",
              "      <th>0</th>\n",
              "      <td>Naman</td>\n",
              "      <td>25</td>\n",
              "      <td>10</td>\n",
              "    </tr>\n",
              "    <tr>\n",
              "      <th>1</th>\n",
              "      <td>Ankit</td>\n",
              "      <td>7</td>\n",
              "      <td>7</td>\n",
              "    </tr>\n",
              "    <tr>\n",
              "      <th>2</th>\n",
              "      <td>Palak</td>\n",
              "      <td>10</td>\n",
              "      <td>8</td>\n",
              "    </tr>\n",
              "    <tr>\n",
              "      <th>3</th>\n",
              "      <td>Ramu</td>\n",
              "      <td>15</td>\n",
              "      <td>10</td>\n",
              "    </tr>\n",
              "    <tr>\n",
              "      <th>4</th>\n",
              "      <td>Noor</td>\n",
              "      <td>14</td>\n",
              "      <td>10</td>\n",
              "    </tr>\n",
              "    <tr>\n",
              "      <th>5</th>\n",
              "      <td>Eshan</td>\n",
              "      <td>12</td>\n",
              "      <td>9</td>\n",
              "    </tr>\n",
              "  </tbody>\n",
              "</table>\n",
              "</div>\n",
              "      <button class=\"colab-df-convert\" onclick=\"convertToInteractive('df-4d969233-315a-4b06-85f1-a5f85087ab60')\"\n",
              "              title=\"Convert this dataframe to an interactive table.\"\n",
              "              style=\"display:none;\">\n",
              "        \n",
              "  <svg xmlns=\"http://www.w3.org/2000/svg\" height=\"24px\"viewBox=\"0 0 24 24\"\n",
              "       width=\"24px\">\n",
              "    <path d=\"M0 0h24v24H0V0z\" fill=\"none\"/>\n",
              "    <path d=\"M18.56 5.44l.94 2.06.94-2.06 2.06-.94-2.06-.94-.94-2.06-.94 2.06-2.06.94zm-11 1L8.5 8.5l.94-2.06 2.06-.94-2.06-.94L8.5 2.5l-.94 2.06-2.06.94zm10 10l.94 2.06.94-2.06 2.06-.94-2.06-.94-.94-2.06-.94 2.06-2.06.94z\"/><path d=\"M17.41 7.96l-1.37-1.37c-.4-.4-.92-.59-1.43-.59-.52 0-1.04.2-1.43.59L10.3 9.45l-7.72 7.72c-.78.78-.78 2.05 0 2.83L4 21.41c.39.39.9.59 1.41.59.51 0 1.02-.2 1.41-.59l7.78-7.78 2.81-2.81c.8-.78.8-2.07 0-2.86zM5.41 20L4 18.59l7.72-7.72 1.47 1.35L5.41 20z\"/>\n",
              "  </svg>\n",
              "      </button>\n",
              "      \n",
              "  <style>\n",
              "    .colab-df-container {\n",
              "      display:flex;\n",
              "      flex-wrap:wrap;\n",
              "      gap: 12px;\n",
              "    }\n",
              "\n",
              "    .colab-df-convert {\n",
              "      background-color: #E8F0FE;\n",
              "      border: none;\n",
              "      border-radius: 50%;\n",
              "      cursor: pointer;\n",
              "      display: none;\n",
              "      fill: #1967D2;\n",
              "      height: 32px;\n",
              "      padding: 0 0 0 0;\n",
              "      width: 32px;\n",
              "    }\n",
              "\n",
              "    .colab-df-convert:hover {\n",
              "      background-color: #E2EBFA;\n",
              "      box-shadow: 0px 1px 2px rgba(60, 64, 67, 0.3), 0px 1px 3px 1px rgba(60, 64, 67, 0.15);\n",
              "      fill: #174EA6;\n",
              "    }\n",
              "\n",
              "    [theme=dark] .colab-df-convert {\n",
              "      background-color: #3B4455;\n",
              "      fill: #D2E3FC;\n",
              "    }\n",
              "\n",
              "    [theme=dark] .colab-df-convert:hover {\n",
              "      background-color: #434B5C;\n",
              "      box-shadow: 0px 1px 3px 1px rgba(0, 0, 0, 0.15);\n",
              "      filter: drop-shadow(0px 1px 2px rgba(0, 0, 0, 0.3));\n",
              "      fill: #FFFFFF;\n",
              "    }\n",
              "  </style>\n",
              "\n",
              "      <script>\n",
              "        const buttonEl =\n",
              "          document.querySelector('#df-4d969233-315a-4b06-85f1-a5f85087ab60 button.colab-df-convert');\n",
              "        buttonEl.style.display =\n",
              "          google.colab.kernel.accessAllowed ? 'block' : 'none';\n",
              "\n",
              "        async function convertToInteractive(key) {\n",
              "          const element = document.querySelector('#df-4d969233-315a-4b06-85f1-a5f85087ab60');\n",
              "          const dataTable =\n",
              "            await google.colab.kernel.invokeFunction('convertToInteractive',\n",
              "                                                     [key], {});\n",
              "          if (!dataTable) return;\n",
              "\n",
              "          const docLinkHtml = 'Like what you see? Visit the ' +\n",
              "            '<a target=\"_blank\" href=https://colab.research.google.com/notebooks/data_table.ipynb>data table notebook</a>'\n",
              "            + ' to learn more about interactive tables.';\n",
              "          element.innerHTML = '';\n",
              "          dataTable['output_type'] = 'display_data';\n",
              "          await google.colab.output.renderOutput(dataTable, element);\n",
              "          const docLink = document.createElement('div');\n",
              "          docLink.innerHTML = docLinkHtml;\n",
              "          element.appendChild(docLink);\n",
              "        }\n",
              "      </script>\n",
              "    </div>\n",
              "  </div>\n",
              "  "
            ]
          },
          "metadata": {},
          "execution_count": 11
        }
      ]
    },
    {
      "cell_type": "markdown",
      "id": "3ccf6464",
      "metadata": {
        "id": "3ccf6464"
      },
      "source": [
        "### 2.  Get and Clean the data\n",
        "| Student | Studied hours | Grade |\n",
        " | --- | --- | --- | \n",
        " | Naman | 25 | 10 |\n",
        " | Ankit | 7 | 7 |\n",
        " | Palak | 10 | 8 |\n",
        " | Ramu | 15 | 10 |"
      ]
    },
    {
      "cell_type": "markdown",
      "id": "d04ad54a",
      "metadata": {
        "id": "d04ad54a"
      },
      "source": [
        "### 3. Perform EDA\n",
        "#### Assignment: \n",
        "1. Perform EDA on cleaned data.(Hint plot the data) \n",
        "2. Write atleat two observation from EDA."
      ]
    },
    {
      "cell_type": "code",
      "execution_count": null,
      "id": "798656bf",
      "metadata": {
        "scrolled": true,
        "id": "798656bf",
        "outputId": "eb450b3a-3cdc-4167-e12c-b2f6250cac6e",
        "colab": {
          "base_uri": "https://localhost:8080/",
          "height": 282
        }
      },
      "outputs": [
        {
          "output_type": "execute_result",
          "data": {
            "text/plain": [
              "<matplotlib.collections.PathCollection at 0x7f5c79236340>"
            ]
          },
          "metadata": {},
          "execution_count": 12
        },
        {
          "output_type": "display_data",
          "data": {
            "text/plain": [
              "<Figure size 432x288 with 1 Axes>"
            ],
            "image/png": "[encoded data removed]"
          },
          "metadata": {
            "needs_background": "light"
          }
        }
      ],
      "source": [
        "import matplotlib.pyplot as plt\n",
        "studied_hours=df['Studied hours'] \n",
        "grade=df['Grade']         \n",
        "plt.scatter(studied_hours, grade)"
      ]
    },
    {
      "cell_type": "code",
      "source": [
        "df.corr()"
      ],
      "metadata": {
        "colab": {
          "base_uri": "https://localhost:8080/",
          "height": 112
        },
        "id": "ropLtesA-6MG",
        "outputId": "88e6e610-8195-4d84-bb21-6b349b113eb8"
      },
      "id": "ropLtesA-6MG",
      "execution_count": null,
      "outputs": [
        {
          "output_type": "execute_result",
          "data": {
            "text/plain": [
              "               Studied hours     Grade\n",
              "Studied hours       1.000000  0.767802\n",
              "Grade               0.767802  1.000000"
            ],
            "text/html": [
              "\n",
              "  <div id=\"df-94c64da5-a71e-45a0-aec4-1abb39578931\">\n",
              "    <div class=\"colab-df-container\">\n",
              "      <div>\n",
              "<style scoped>\n",
              "    .dataframe tbody tr th:only-of-type {\n",
              "        vertical-align: middle;\n",
              "    }\n",
              "\n",
              "    .dataframe tbody tr th {\n",
              "        vertical-align: top;\n",
              "    }\n",
              "\n",
              "    .dataframe thead th {\n",
              "        text-align: right;\n",
              "    }\n",
              "</style>\n",
              "<table border=\"1\" class=\"dataframe\">\n",
              "  <thead>\n",
              "    <tr style=\"text-align: right;\">\n",
              "      <th></th>\n",
              "      <th>Studied hours</th>\n",
              "      <th>Grade</th>\n",
              "    </tr>\n",
              "  </thead>\n",
              "  <tbody>\n",
              "    <tr>\n",
              "      <th>Studied hours</th>\n",
              "      <td>1.000000</td>\n",
              "      <td>0.767802</td>\n",
              "    </tr>\n",
              "    <tr>\n",
              "      <th>Grade</th>\n",
              "      <td>0.767802</td>\n",
              "      <td>1.000000</td>\n",
              "    </tr>\n",
              "  </tbody>\n",
              "</table>\n",
              "</div>\n",
              "      <button class=\"colab-df-convert\" onclick=\"convertToInteractive('df-94c64da5-a71e-45a0-aec4-1abb39578931')\"\n",
              "              title=\"Convert this dataframe to an interactive table.\"\n",
              "              style=\"display:none;\">\n",
              "        \n",
              "  <svg xmlns=\"http://www.w3.org/2000/svg\" height=\"24px\"viewBox=\"0 0 24 24\"\n",
              "       width=\"24px\">\n",
              "    <path d=\"M0 0h24v24H0V0z\" fill=\"none\"/>\n",
              "    <path d=\"M18.56 5.44l.94 2.06.94-2.06 2.06-.94-2.06-.94-.94-2.06-.94 2.06-2.06.94zm-11 1L8.5 8.5l.94-2.06 2.06-.94-2.06-.94L8.5 2.5l-.94 2.06-2.06.94zm10 10l.94 2.06.94-2.06 2.06-.94-2.06-.94-.94-2.06-.94 2.06-2.06.94z\"/><path d=\"M17.41 7.96l-1.37-1.37c-.4-.4-.92-.59-1.43-.59-.52 0-1.04.2-1.43.59L10.3 9.45l-7.72 7.72c-.78.78-.78 2.05 0 2.83L4 21.41c.39.39.9.59 1.41.59.51 0 1.02-.2 1.41-.59l7.78-7.78 2.81-2.81c.8-.78.8-2.07 0-2.86zM5.41 20L4 18.59l7.72-7.72 1.47 1.35L5.41 20z\"/>\n",
              "  </svg>\n",
              "      </button>\n",
              "      \n",
              "  <style>\n",
              "    .colab-df-container {\n",
              "      display:flex;\n",
              "      flex-wrap:wrap;\n",
              "      gap: 12px;\n",
              "    }\n",
              "\n",
              "    .colab-df-convert {\n",
              "      background-color: #E8F0FE;\n",
              "      border: none;\n",
              "      border-radius: 50%;\n",
              "      cursor: pointer;\n",
              "      display: none;\n",
              "      fill: #1967D2;\n",
              "      height: 32px;\n",
              "      padding: 0 0 0 0;\n",
              "      width: 32px;\n",
              "    }\n",
              "\n",
              "    .colab-df-convert:hover {\n",
              "      background-color: #E2EBFA;\n",
              "      box-shadow: 0px 1px 2px rgba(60, 64, 67, 0.3), 0px 1px 3px 1px rgba(60, 64, 67, 0.15);\n",
              "      fill: #174EA6;\n",
              "    }\n",
              "\n",
              "    [theme=dark] .colab-df-convert {\n",
              "      background-color: #3B4455;\n",
              "      fill: #D2E3FC;\n",
              "    }\n",
              "\n",
              "    [theme=dark] .colab-df-convert:hover {\n",
              "      background-color: #434B5C;\n",
              "      box-shadow: 0px 1px 3px 1px rgba(0, 0, 0, 0.15);\n",
              "      filter: drop-shadow(0px 1px 2px rgba(0, 0, 0, 0.3));\n",
              "      fill: #FFFFFF;\n",
              "    }\n",
              "  </style>\n",
              "\n",
              "      <script>\n",
              "        const buttonEl =\n",
              "          document.querySelector('#df-94c64da5-a71e-45a0-aec4-1abb39578931 button.colab-df-convert');\n",
              "        buttonEl.style.display =\n",
              "          google.colab.kernel.accessAllowed ? 'block' : 'none';\n",
              "\n",
              "        async function convertToInteractive(key) {\n",
              "          const element = document.querySelector('#df-94c64da5-a71e-45a0-aec4-1abb39578931');\n",
              "          const dataTable =\n",
              "            await google.colab.kernel.invokeFunction('convertToInteractive',\n",
              "                                                     [key], {});\n",
              "          if (!dataTable) return;\n",
              "\n",
              "          const docLinkHtml = 'Like what you see? Visit the ' +\n",
              "            '<a target=\"_blank\" href=https://colab.research.google.com/notebooks/data_table.ipynb>data table notebook</a>'\n",
              "            + ' to learn more about interactive tables.';\n",
              "          element.innerHTML = '';\n",
              "          dataTable['output_type'] = 'display_data';\n",
              "          await google.colab.output.renderOutput(dataTable, element);\n",
              "          const docLink = document.createElement('div');\n",
              "          docLink.innerHTML = docLinkHtml;\n",
              "          element.appendChild(docLink);\n",
              "        }\n",
              "      </script>\n",
              "    </div>\n",
              "  </div>\n",
              "  "
            ]
          },
          "metadata": {},
          "execution_count": 13
        }
      ]
    },
    {
      "cell_type": "markdown",
      "source": [
        "We can infer from the above observations that studies hours and the grade are linearly dependent having an outlier Naman who studies for 25 hours and gets 10 grade. We can also see that Ramu with 15 hours and Noor with 14 hours also get the same grade. We can say that Naman likes to study as 10 is the max grade one can get therefore 14-15 hours study is enough for that."
      ],
      "metadata": {
        "id": "34h0xgTk_KZo"
      },
      "id": "34h0xgTk_KZo"
    },
    {
      "cell_type": "markdown",
      "id": "85a2b8f5",
      "metadata": {
        "id": "85a2b8f5"
      },
      "source": [
        "### 4. Apply Techniques\n",
        "#### Assignment: \n",
        "1. Apply a machine learning or data science technique to encode your observation in EDA. (Hint: which type of realtion is associated between hours of study and grade)"
      ]
    },
    {
      "cell_type": "code",
      "source": [
        "import numpy as np\n",
        "from sklearn.linear_model import LinearRegression\n",
        "x=[25,7,10,15,14,12]\n",
        "y=df['Grade']\n",
        "x=np.reshape(x,(-1, 1))\n",
        "model = LinearRegression()\n",
        "model.fit(x,y)"
      ],
      "metadata": {
        "colab": {
          "base_uri": "https://localhost:8080/"
        },
        "id": "rhyqNX8C-4d-",
        "outputId": "fcf6eafb-74c2-441e-de27-3076305eefda"
      },
      "id": "rhyqNX8C-4d-",
      "execution_count": null,
      "outputs": [
        {
          "output_type": "execute_result",
          "data": {
            "text/plain": [
              "LinearRegression()"
            ]
          },
          "metadata": {},
          "execution_count": 18
        }
      ]
    },
    {
      "cell_type": "code",
      "source": [
        "score=model.score(x, y)\n",
        "print(score)"
      ],
      "metadata": {
        "colab": {
          "base_uri": "https://localhost:8080/"
        },
        "id": "3uOcU-CJCDhk",
        "outputId": "855b1101-4871-475a-bdd1-2930596b5dc6"
      },
      "id": "3uOcU-CJCDhk",
      "execution_count": null,
      "outputs": [
        {
          "output_type": "stream",
          "name": "stdout",
          "text": [
            "0.5895196506550215\n"
          ]
        }
      ]
    },
    {
      "cell_type": "code",
      "source": [
        "ypred = model.predict(x)\n",
        "ypred"
      ],
      "metadata": {
        "colab": {
          "base_uri": "https://localhost:8080/"
        },
        "id": "F5OecTmaCKpH",
        "outputId": "f9717388-b5dc-4679-9e02-44809f069191"
      },
      "id": "F5OecTmaCKpH",
      "execution_count": null,
      "outputs": [
        {
          "output_type": "execute_result",
          "data": {
            "text/plain": [
              "array([10.75545852,  7.92576419,  8.39737991,  9.18340611,  9.02620087,\n",
              "        8.71179039])"
            ]
          },
          "metadata": {},
          "execution_count": 20
        }
      ]
    },
    {
      "cell_type": "markdown",
      "id": "58113c62",
      "metadata": {
        "id": "58113c62"
      },
      "source": [
        "### 5. Share Insights\n",
        "#### Assignment:\n",
        "1. Is there any relation between the number of hours you study and the grade you will get? Represent the relation using graph.\n",
        "2. What is the speciffic mathemetical relationship between number of hours you study and the grade?\n",
        "3. Is there any abnormality? What conclusion you drown about abnormal data? \n",
        "\n",
        "\n"
      ]
    },
    {
      "cell_type": "code",
      "source": [
        "plt.scatter(x, y,color='y') \n",
        "plt.plot(x, ypred,color='b') \n",
        "plt.show()"
      ],
      "metadata": {
        "colab": {
          "base_uri": "https://localhost:8080/",
          "height": 265
        },
        "id": "gLxBG2ZOCS0D",
        "outputId": "16d5cc33-1290-4fe2-a60e-656df03ca1f6"
      },
      "id": "gLxBG2ZOCS0D",
      "execution_count": null,
      "outputs": [
        {
          "output_type": "display_data",
          "data": {
            "text/plain": [
              "<Figure size 432x288 with 1 Axes>"
            ],
            "image/png": "[encoded data removed]"
          },
          "metadata": {
            "needs_background": "light"
          }
        }
      ]
    },
    {
      "cell_type": "code",
      "source": [
        "print(f\"intercept: {model.intercept_}\")\n",
        "print(f\"slope: {model.coef_}\")\n",
        "print(f\"Equation of line is y = \",{model.intercept_}, \"+\" ,f\"x * {model.coef_}\")"
      ],
      "metadata": {
        "colab": {
          "base_uri": "https://localhost:8080/"
        },
        "id": "gG2TfeFPCclD",
        "outputId": "82890768-7b1a-43ad-b3f4-3fc5a3bc58cd"
      },
      "id": "gG2TfeFPCclD",
      "execution_count": null,
      "outputs": [
        {
          "output_type": "stream",
          "name": "stdout",
          "text": [
            "intercept: 6.825327510917031\n",
            "slope: [0.15720524]\n",
            "Equation of line is y =  {6.825327510917031} + x * [0.15720524]\n"
          ]
        }
      ]
    },
    {
      "cell_type": "markdown",
      "source": [
        "Naman who studies for 25 hours and gets 10 grade. We can also see that Ramu with 15 hours and Noor with 14 hours also get the same grade. We can say that Naman likes to study as 10 is the max grade one can get therefore 14-15 hours study is enough for that. Let us remove Naman's score and observe the relationship."
      ],
      "metadata": {
        "id": "RgMkLG13DFUr"
      },
      "id": "RgMkLG13DFUr"
    },
    {
      "cell_type": "code",
      "source": [
        "#Removing naman's entry\n",
        "x=[7,10,15,14,12]\n",
        "y=[7,8,10,10,9]\n",
        "x=np.reshape(x,(-1, 1))\n",
        "model = LinearRegression()\n",
        "model.fit(x,y)"
      ],
      "metadata": {
        "colab": {
          "base_uri": "https://localhost:8080/"
        },
        "id": "h82SPW-eDJ8W",
        "outputId": "a75682a7-c843-4f75-ef15-345fcd60a242"
      },
      "id": "h82SPW-eDJ8W",
      "execution_count": null,
      "outputs": [
        {
          "output_type": "execute_result",
          "data": {
            "text/plain": [
              "LinearRegression()"
            ]
          },
          "metadata": {},
          "execution_count": 25
        }
      ]
    },
    {
      "cell_type": "code",
      "source": [
        "#drastic increase in the score\n",
        "score=model.score(x, y)\n",
        "print(score)"
      ],
      "metadata": {
        "colab": {
          "base_uri": "https://localhost:8080/"
        },
        "id": "mGKjQYCwDt0A",
        "outputId": "0527d1ed-cfae-42e2-ac31-bde1876a3c52"
      },
      "id": "mGKjQYCwDt0A",
      "execution_count": null,
      "outputs": [
        {
          "output_type": "stream",
          "name": "stdout",
          "text": [
            "0.9835808109651627\n"
          ]
        }
      ]
    },
    {
      "cell_type": "code",
      "source": [
        "ypred = model.predict(x)\n",
        "ypred"
      ],
      "metadata": {
        "colab": {
          "base_uri": "https://localhost:8080/"
        },
        "id": "IkPmSWa_DzG2",
        "outputId": "a422915d-5abb-4aad-c44f-a651e0895a10"
      },
      "id": "IkPmSWa_DzG2",
      "execution_count": null,
      "outputs": [
        {
          "output_type": "execute_result",
          "data": {
            "text/plain": [
              "array([ 6.94660194,  8.15533981, 10.16990291,  9.76699029,  8.96116505])"
            ]
          },
          "metadata": {},
          "execution_count": 27
        }
      ]
    },
    {
      "cell_type": "code",
      "source": [
        "#line fits quite right on the points\n",
        "plt.scatter(x, y,color='y') \n",
        "plt.plot(x, ypred,color='b') \n",
        "plt.show()"
      ],
      "metadata": {
        "colab": {
          "base_uri": "https://localhost:8080/",
          "height": 265
        },
        "id": "13OZ2gWMD8cO",
        "outputId": "0cd5866d-068a-4ea9-a35a-58a44e61065a"
      },
      "id": "13OZ2gWMD8cO",
      "execution_count": null,
      "outputs": [
        {
          "output_type": "display_data",
          "data": {
            "text/plain": [
              "<Figure size 432x288 with 1 Axes>"
            ],
            "image/png": "[encoded data removed]"
          },
          "metadata": {
            "needs_background": "light"
          }
        }
      ]
    },
    {
      "cell_type": "code",
      "source": [
        "print(f\"intercept: {model.intercept_}\")\n",
        "print(f\"slope: {model.coef_}\")\n",
        "print(f\"Equation of line is y = \",{model.intercept_}, \"+\" ,f\"x * {model.coef_}\")"
      ],
      "metadata": {
        "colab": {
          "base_uri": "https://localhost:8080/"
        },
        "id": "srGZz14KEA7v",
        "outputId": "ed9e54c5-dd2d-47ec-bf02-d9a1b6585fe8"
      },
      "id": "srGZz14KEA7v",
      "execution_count": null,
      "outputs": [
        {
          "output_type": "stream",
          "name": "stdout",
          "text": [
            "intercept: 4.126213592233011\n",
            "slope: [0.40291262]\n",
            "Equation of line is y =  {4.126213592233011} + x * [0.40291262]\n"
          ]
        }
      ]
    }
  ],
  "metadata": {
    "kernelspec": {
      "display_name": "Python 3 (ipykernel)",
      "language": "python",
      "name": "python3"
    },
    "language_info": {
      "codemirror_mode": {
        "name": "ipython",
        "version": 3
      },
      "file_extension": ".py",
      "mimetype": "text/x-python",
      "name": "python",
      "nbconvert_exporter": "python",
      "pygments_lexer": "ipython3",
      "version": "3.9.7"
    },
    "colab": {
      "provenance": [],
      "include_colab_link": true
    }
  },
  "nbformat": 4,
  "nbformat_minor": 5
}